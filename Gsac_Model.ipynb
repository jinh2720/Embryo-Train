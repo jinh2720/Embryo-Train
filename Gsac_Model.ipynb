{
 "cells": [
  {
   "cell_type": "markdown",
   "id": "631ddc04",
   "metadata": {},
   "source": [
    "# Load packages"
   ]
  },
  {
   "cell_type": "code",
   "execution_count": null,
   "id": "54c85c24",
   "metadata": {},
   "outputs": [],
   "source": [
    "import os\n",
    "import sys\n",
    "import pytorch_lightning\n",
    "import torch\n",
    "import torch.nn as nn\n",
    "import torch.nn.functional as F\n",
    "\n",
    "from torchvision import transforms, models\n",
    "\n",
    "from torchmetrics import functional as FM\n",
    "from torch.utils.data import Dataset, DataLoader\n",
    "from pytorch_lightning import LightningModule, Trainer\n",
    "from pytorch_lightning.callbacks.progress import TQDMProgressBar\n",
    "from pytorch_lightning.callbacks import ModelCheckpoint\n",
    "from pytorch_lightning.loggers import WandbLogger\n",
    "\n",
    "import pandas as pd\n",
    "import numpy as np\n",
    "import wandb\n",
    "from PIL import Image"
   ]
  },
  {
   "cell_type": "markdown",
   "id": "f18ae2a0",
   "metadata": {},
   "source": [
    "# Wandb config"
   ]
  },
  {
   "cell_type": "code",
   "execution_count": null,
   "id": "ef489065",
   "metadata": {},
   "outputs": [],
   "source": [
    "# Initialize wandb and save hyperparameters\n",
    "project_name = \"Gsac_test\"\n",
    "# project_name = \"pytorch_resnet18_retest\"\n",
    "# id = wandb.util.generate_id()\n",
    "\n",
    "wandb.init(\n",
    "  # id = \"22phcqf6\",\n",
    "  # resume=\"allow\",\n",
    "  project=project_name,\n",
    "  entity=\"jinh\",\n",
    "  config={\n",
    "    \"dropout\": \"None\",\n",
    "    \"initial_learning_rate\": 0.0001,\n",
    "    \"batch_size\": 2,\n",
    "    \"input_size\": (250,250,64),\n",
    "    \"loss\" : \"cross_entropy\",\n",
    "    \"augmentation\" : \"None\",\n",
    "    \"epochs\": 30,\n",
    "    \"load_weight\":\"1\"\n",
    "     }\n",
    "    \n",
    ")\n",
    "config = wandb.config"
   ]
  },
  {
   "cell_type": "markdown",
   "id": "8061b7bc",
   "metadata": {},
   "source": [
    "# Load csv data - annotation file base"
   ]
  },
  {
   "cell_type": "code",
   "execution_count": null,
   "id": "1865c696",
   "metadata": {},
   "outputs": [],
   "source": [
    "# annotation file load 해야 함\n",
    "# base_dir = '/home/jinh/project/nia/network/data/GEM'\n",
    "base_dir = '/home/jinh/project/nia/network/data/Gsac/data'\n",
    "\n",
    "# csv_file_path = os.path.join(base_dir,'new_ds.csv') # GEM file\n",
    "csv_file_path = os.path.join(base_dir,'gsac_single.csv') # Gsac file\n",
    "\n",
    "df = pd.read_csv(csv_file_path, names=['filename','label','dataset']) # dataset : train, valid, test\n",
    "# column_list = ['filename','label','dataset']\n",
    "# df = df[column_list]\n",
    "\n",
    "train_df = df[df['dataset']=='train']\n",
    "valid_df = df[df['dataset']=='valid']\n",
    "test_df = df[df['dataset']=='test']\n",
    "\n",
    "print('train: {} valid: {} test: {}'.format(len(train_df),len(valid_df) ,len(test_df)))\n",
    "print(train_df.head(2))"
   ]
  },
  {
   "cell_type": "markdown",
   "id": "7875dca8",
   "metadata": {},
   "source": [
    "# Define data class, data loader"
   ]
  },
  {
   "cell_type": "code",
   "execution_count": null,
   "id": "95612551",
   "metadata": {},
   "outputs": [],
   "source": [
    "class MyDataSet(Dataset):\n",
    "    def __init__(self, annotations_file, transform=None, target_transform=None):\n",
    "    # def __init__(self, annotations_file, img_dir, transform=None):\n",
    "        # self.img_labels = pd.read_csv(annotations_file, names=['file_name', 'label']) # 넘겨줄 때 아예 데이터프레임으로 넘겨주어도 될 것 같은데\n",
    "        self.image_info = annotations_file\n",
    "        self.transform = transform\n",
    "        self.target_transform = target_transform\n",
    "\n",
    "    def __len__(self):\n",
    "        return len(self.image_info['label'])\n",
    "\n",
    "    def __getitem__(self, idx):\n",
    "        \n",
    "        img_path = self.image_info.iloc[idx, 0] # filename\n",
    "        label = self.image_info.iloc[idx, 1] # label\n",
    "        image = Image.open(img_path)\n",
    "\n",
    "        if self.transform:\n",
    "            image = self.transform(image)\n",
    "\n",
    "        if self.target_transform:\n",
    "            label = self.target_transform(label)\n",
    "\n",
    "        return image, label\n"
   ]
  },
  {
   "cell_type": "code",
   "execution_count": null,
   "id": "e729764f",
   "metadata": {},
   "outputs": [],
   "source": [
    "transform = transforms.Compose([\n",
    "    transforms.Resize((224, 224)),\n",
    "    transforms.ToTensor() # 0~1 scaling\n",
    "    ])\n",
    "\n",
    "transformed_train_dataset = MyDataSet(train_df, transform=transform)\n",
    "transformed_valid_dataset = MyDataSet(valid_df, transform=transform)\n",
    "transformed_test_dataset = MyDataSet(test_df, transform=transform)\n",
    "\n",
    "BATCH_SIZE = 2\n",
    "train_dataloader = DataLoader(transformed_train_dataset, batch_size=BATCH_SIZE,\n",
    "                        shuffle=True, num_workers=2) # Colab cpu 코어수가 2개임\n",
    "\n",
    "valid_dataloader = DataLoader(transformed_valid_dataset, batch_size=BATCH_SIZE,\n",
    "                        shuffle=False, num_workers=2)\n",
    "\n",
    "test_dataloader = DataLoader(transformed_test_dataset, batch_size=BATCH_SIZE,\n",
    "                        shuffle=False, num_workers=2)"
   ]
  },
  {
   "cell_type": "markdown",
   "id": "66d2c850",
   "metadata": {},
   "source": [
    "# Define model"
   ]
  },
  {
   "cell_type": "code",
   "execution_count": null,
   "id": "9cc8034f",
   "metadata": {},
   "outputs": [],
   "source": [
    "def make_resnet():\n",
    "    resnet_model = models.resnet50(pretrained=True)\n",
    "    resnet_model.fc = nn.Linear(2048, 2, bias = True)\n",
    "    return resnet_model"
   ]
  },
  {
   "cell_type": "code",
   "execution_count": null,
   "id": "196cb212",
   "metadata": {},
   "outputs": [],
   "source": [
    "class MyLightningModule(pytorch_lightning.LightningModule):\n",
    "    def __init__(self):\n",
    "        super().__init__()\n",
    "        self.model = make_resnet()\n",
    "\n",
    "    def forward(self, x):\n",
    "        x = self.model(x)\n",
    "        output = F.softmax(x, dim=1) # 왜 기본 resnet18에 softmax layer가 없음?   \n",
    "        return output\n",
    "\n",
    "    def training_step(self, batch, batch_idx):\n",
    "        x, y = batch\n",
    "        loss = F.cross_entropy(self(x), y)\n",
    "        acc = FM.accuracy(self(x), y)\n",
    "        metrics = {'acc': acc, 'loss': loss}\n",
    "        self.log_dict(metrics, on_epoch=True, on_step=False)\n",
    "\n",
    "        return loss\n",
    "\n",
    "    def validation_step(self, batch, batch_idx):\n",
    "        x, y = batch\n",
    "        y_hat = self(x)\n",
    "        val_loss = F.cross_entropy(y_hat, y)\n",
    "        val_acc = FM.accuracy(y_hat, y)\n",
    "        metrics = {'val_acc': val_acc, 'val_loss': val_loss}\n",
    "        self.log_dict(metrics, on_epoch=True, on_step=False)\n",
    "        # return loss\n",
    "\n",
    "    def configure_optimizers(self):\n",
    "        \"\"\"\n",
    "        Setup the Adam optimizer. Note, that this function also can return a lr scheduler, which is\n",
    "        usually useful for training video models.\n",
    "        \"\"\"\n",
    "        optimizer = torch.optim.Adam(self.parameters(), lr=1e-4)\n",
    "\n",
    "        return optimizer"
   ]
  },
  {
   "cell_type": "markdown",
   "id": "03148260",
   "metadata": {},
   "source": [
    "# Train"
   ]
  },
  {
   "cell_type": "code",
   "execution_count": null,
   "id": "72f8e000",
   "metadata": {},
   "outputs": [],
   "source": [
    "def train():\n",
    "    wandb_logger = WandbLogger(project=project_name,log_model=\"all\")\n",
    "\n",
    "    base_dir = '/home/jinh/project/nia/network/model_result/'\n",
    "    if not os.path.exists(os.path.join(base_dir, project_name)):\n",
    "        os.makedirs(os.path.join(base_dir, project_name))\n",
    "\n",
    "    model_path = os.path.join(base_dir,project_name)\n",
    "\n",
    "    checkpoint_callback = ModelCheckpoint(\n",
    "        dirpath=model_path,\n",
    "        filename='{epoch}-{val_loss:.2f}',\n",
    "        monitor='val_loss',\n",
    "        mode='min',\n",
    "        verbose=True,\n",
    "        save_last=True,# save last epoch ckpt\n",
    "    )\n",
    "\n",
    "\n",
    "    classification_module = MyLightningModule()\n",
    "    # data_module = KineticsDataModule()\n",
    "    trainer = Trainer(\n",
    "        accelerator=\"gpu\",\n",
    "        devices=1 if torch.cuda.is_available() else None,  # limiting got iPython runs\n",
    "        # tpu_cores = 8,\n",
    "        # limit_train_batches=1,\n",
    "        logger=wandb_logger,\n",
    "        max_epochs=30,\n",
    "        callbacks=[TQDMProgressBar(refresh_rate=1), checkpoint_callback], # TQDMProgressBar(refresh_rate=1)\n",
    "    )\n",
    "    # trainer.fit(classification_module, data_module)\n",
    "#     ckpt_path = os.path.join(base_dir,project_name,str(1),'last.ckpt') # check point path\n",
    "#     trainer.fit(classification_module.load_from_checkpoint(ckpt_path), train_dataloader, valid_dataloader)\n",
    "    trainer.fit(classification_module,train_dataloader,valid_dataloader)"
   ]
  },
  {
   "cell_type": "code",
   "execution_count": null,
   "id": "a3b90f18",
   "metadata": {
    "scrolled": true
   },
   "outputs": [],
   "source": [
    "train()\n",
    "wandb.finish()"
   ]
  }
 ],
 "metadata": {
  "kernelspec": {
   "display_name": "Python 3 (ipykernel)",
   "language": "python",
   "name": "python3"
  },
  "language_info": {
   "codemirror_mode": {
    "name": "ipython",
    "version": 3
   },
   "file_extension": ".py",
   "mimetype": "text/x-python",
   "name": "python",
   "nbconvert_exporter": "python",
   "pygments_lexer": "ipython3",
   "version": "3.9.12"
  }
 },
 "nbformat": 4,
 "nbformat_minor": 5
}
